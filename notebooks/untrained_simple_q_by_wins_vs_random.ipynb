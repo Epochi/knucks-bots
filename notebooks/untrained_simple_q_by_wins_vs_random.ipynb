{
 "cells": [
  {
   "cell_type": "markdown",
   "metadata": {},
   "source": [
    "Play Random Agent vs Random Agent to get baseline to beat."
   ]
  },
  {
   "cell_type": "code",
   "execution_count": null,
   "metadata": {},
   "outputs": [],
   "source": [
    "# Import necessary modules\n",
    "import matplotlib.pyplot as plt\n",
    "import numpy as np\n",
    "import knucks\n",
    "from agents.random_agent import RandomAgent\n",
    "from agents.simple_q_learning import QLearningAgent\n",
    "from training.reward_models import calculate_reward_per_win"
   ]
  },
  {
   "cell_type": "code",
   "execution_count": null,
   "metadata": {},
   "outputs": [],
   "source": [
    "# Initialize two RandomAgent instances for the players\n",
    "player1 = QLearningAgent()\n",
    "player2 = RandomAgent()"
   ]
  },
  {
   "cell_type": "code",
   "execution_count": null,
   "metadata": {},
   "outputs": [],
   "source": [
    "# Function to simulate a single game between two RandomAgents using the play_game method\n",
    "def simulate_game_with_play_game():\n",
    "    return knucks.play_game(player1, player2, False, calculate_reward_per_win)\n",
    "\n",
    "\n",
    "num_games = 1000\n",
    "results = []\n",
    "p1_current_wins = 0\n",
    "p2_current_wins = 0\n",
    "for _ in range(num_games):\n",
    "    result = simulate_game_with_play_game()\n",
    "    results.append(result)\n",
    "    if result == 1:\n",
    "        p1_current_wins += 1\n",
    "    elif result == 2:\n",
    "        p2_current_wins += 1\n",
    "    p1_win_rate = p1_current_wins / (_ + 1)\n",
    "    # print on every 10% of the games\n",
    "    if (_ + 1) % (num_games // 10) == 0:\n",
    "        print(f\"Game {_ + 1} - Player 1 win rate: {p1_win_rate:.2f}\")\n",
    "\n",
    "results = np.array(results)\n",
    "\n",
    "# Calculate cumulative wins for each player\n",
    "player1_cumulative_wins = np.cumsum(results == 1)\n",
    "player2_cumulative_wins = np.cumsum(results == 2)"
   ]
  },
  {
   "cell_type": "code",
   "execution_count": null,
   "metadata": {},
   "outputs": [],
   "source": [
    "# Plotting\n",
    "plt.plot(player1_cumulative_wins, label='Player 1')\n",
    "plt.plot(player2_cumulative_wins, label='Player 2')\n",
    "plt.xlabel('Game Number')\n",
    "plt.ylabel('Cumulative Wins')\n",
    "plt.legend()\n",
    "plt.show()"
   ]
  }
 ],
 "metadata": {
  "kernelspec": {
   "display_name": "Python 3",
   "language": "python",
   "name": "python3"
  },
  "language_info": {
   "codemirror_mode": {
    "name": "ipython",
    "version": 3
   },
   "file_extension": ".py",
   "mimetype": "text/x-python",
   "name": "python",
   "nbconvert_exporter": "python",
   "pygments_lexer": "ipython3",
   "version": "3.11.8"
  }
 },
 "nbformat": 4,
 "nbformat_minor": 2
}
